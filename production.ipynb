{
 "cells": [
  {
   "cell_type": "markdown",
   "id": "8b0f6f73-f99b-45e0-bbef-6910f29795ac",
   "metadata": {
    "id": "8b0f6f73-f99b-45e0-bbef-6910f29795ac",
    "outputId": "575b33d4-f640-4cc6-d229-d5ea14a9a52a"
   },
   "source": [
    "# Загрузка библиотек"
   ]
  },
  {
   "cell_type": "code",
   "execution_count": 1,
   "id": "6704f283-f420-46e4-b053-471fcf997cc4",
   "metadata": {
    "colab": {
     "base_uri": "https://localhost:8080/"
    },
    "executionInfo": {
     "elapsed": 37163,
     "status": "ok",
     "timestamp": 1697055633519,
     "user": {
      "displayName": "Андрей Борискин",
      "userId": "13356073131863959443"
     },
     "user_tz": -180
    },
    "id": "6704f283-f420-46e4-b053-471fcf997cc4",
    "outputId": "45d5e339-09f1-4e93-fa4b-a398df9c48fa",
    "scrolled": true,
    "tags": []
   },
   "outputs": [
    {
     "name": "stdout",
     "output_type": "stream",
     "text": [
      "Requirement already satisfied: catboost in /Users/andreyboriskin/anaconda3/lib/python3.11/site-packages (1.2.2)\n",
      "Requirement already satisfied: graphviz in /Users/andreyboriskin/anaconda3/lib/python3.11/site-packages (from catboost) (0.20.1)\n",
      "Requirement already satisfied: matplotlib in /Users/andreyboriskin/anaconda3/lib/python3.11/site-packages (from catboost) (3.7.2)\n",
      "Requirement already satisfied: numpy>=1.16.0 in /Users/andreyboriskin/anaconda3/lib/python3.11/site-packages (from catboost) (1.24.3)\n",
      "Requirement already satisfied: pandas>=0.24 in /Users/andreyboriskin/anaconda3/lib/python3.11/site-packages (from catboost) (2.0.3)\n",
      "Requirement already satisfied: scipy in /Users/andreyboriskin/anaconda3/lib/python3.11/site-packages (from catboost) (1.11.1)\n",
      "Requirement already satisfied: plotly in /Users/andreyboriskin/anaconda3/lib/python3.11/site-packages (from catboost) (5.9.0)\n",
      "Requirement already satisfied: six in /Users/andreyboriskin/anaconda3/lib/python3.11/site-packages (from catboost) (1.16.0)\n",
      "Requirement already satisfied: python-dateutil>=2.8.2 in /Users/andreyboriskin/anaconda3/lib/python3.11/site-packages (from pandas>=0.24->catboost) (2.8.2)\n",
      "Requirement already satisfied: pytz>=2020.1 in /Users/andreyboriskin/anaconda3/lib/python3.11/site-packages (from pandas>=0.24->catboost) (2023.3.post1)\n",
      "Requirement already satisfied: tzdata>=2022.1 in /Users/andreyboriskin/anaconda3/lib/python3.11/site-packages (from pandas>=0.24->catboost) (2023.3)\n",
      "Requirement already satisfied: contourpy>=1.0.1 in /Users/andreyboriskin/anaconda3/lib/python3.11/site-packages (from matplotlib->catboost) (1.0.5)\n",
      "Requirement already satisfied: cycler>=0.10 in /Users/andreyboriskin/anaconda3/lib/python3.11/site-packages (from matplotlib->catboost) (0.11.0)\n",
      "Requirement already satisfied: fonttools>=4.22.0 in /Users/andreyboriskin/anaconda3/lib/python3.11/site-packages (from matplotlib->catboost) (4.25.0)\n",
      "Requirement already satisfied: kiwisolver>=1.0.1 in /Users/andreyboriskin/anaconda3/lib/python3.11/site-packages (from matplotlib->catboost) (1.4.4)\n",
      "Requirement already satisfied: packaging>=20.0 in /Users/andreyboriskin/anaconda3/lib/python3.11/site-packages (from matplotlib->catboost) (23.1)\n",
      "Requirement already satisfied: pillow>=6.2.0 in /Users/andreyboriskin/anaconda3/lib/python3.11/site-packages (from matplotlib->catboost) (9.4.0)\n",
      "Requirement already satisfied: pyparsing<3.1,>=2.3.1 in /Users/andreyboriskin/anaconda3/lib/python3.11/site-packages (from matplotlib->catboost) (3.0.9)\n",
      "Requirement already satisfied: tenacity>=6.2.0 in /Users/andreyboriskin/anaconda3/lib/python3.11/site-packages (from plotly->catboost) (8.2.2)\n",
      "Requirement already satisfied: shap in /Users/andreyboriskin/anaconda3/lib/python3.11/site-packages (0.43.0)\n",
      "Requirement already satisfied: numpy in /Users/andreyboriskin/anaconda3/lib/python3.11/site-packages (from shap) (1.24.3)\n",
      "Requirement already satisfied: scipy in /Users/andreyboriskin/anaconda3/lib/python3.11/site-packages (from shap) (1.11.1)\n",
      "Requirement already satisfied: scikit-learn in /Users/andreyboriskin/anaconda3/lib/python3.11/site-packages (from shap) (1.3.0)\n",
      "Requirement already satisfied: pandas in /Users/andreyboriskin/anaconda3/lib/python3.11/site-packages (from shap) (2.0.3)\n",
      "Requirement already satisfied: tqdm>=4.27.0 in /Users/andreyboriskin/anaconda3/lib/python3.11/site-packages (from shap) (4.65.0)\n",
      "Requirement already satisfied: packaging>20.9 in /Users/andreyboriskin/anaconda3/lib/python3.11/site-packages (from shap) (23.1)\n",
      "Requirement already satisfied: slicer==0.0.7 in /Users/andreyboriskin/anaconda3/lib/python3.11/site-packages (from shap) (0.0.7)\n",
      "Requirement already satisfied: numba in /Users/andreyboriskin/anaconda3/lib/python3.11/site-packages (from shap) (0.57.1)\n",
      "Requirement already satisfied: cloudpickle in /Users/andreyboriskin/anaconda3/lib/python3.11/site-packages (from shap) (2.2.1)\n",
      "Requirement already satisfied: llvmlite<0.41,>=0.40.0dev0 in /Users/andreyboriskin/anaconda3/lib/python3.11/site-packages (from numba->shap) (0.40.0)\n",
      "Requirement already satisfied: python-dateutil>=2.8.2 in /Users/andreyboriskin/anaconda3/lib/python3.11/site-packages (from pandas->shap) (2.8.2)\n",
      "Requirement already satisfied: pytz>=2020.1 in /Users/andreyboriskin/anaconda3/lib/python3.11/site-packages (from pandas->shap) (2023.3.post1)\n",
      "Requirement already satisfied: tzdata>=2022.1 in /Users/andreyboriskin/anaconda3/lib/python3.11/site-packages (from pandas->shap) (2023.3)\n",
      "Requirement already satisfied: joblib>=1.1.1 in /Users/andreyboriskin/anaconda3/lib/python3.11/site-packages (from scikit-learn->shap) (1.2.0)\n",
      "Requirement already satisfied: threadpoolctl>=2.0.0 in /Users/andreyboriskin/anaconda3/lib/python3.11/site-packages (from scikit-learn->shap) (2.2.0)\n",
      "Requirement already satisfied: six>=1.5 in /Users/andreyboriskin/anaconda3/lib/python3.11/site-packages (from python-dateutil>=2.8.2->pandas->shap) (1.16.0)\n",
      "Requirement already satisfied: scikit-learn in /Users/andreyboriskin/anaconda3/lib/python3.11/site-packages (1.3.0)\n",
      "Requirement already satisfied: numpy>=1.17.3 in /Users/andreyboriskin/anaconda3/lib/python3.11/site-packages (from scikit-learn) (1.24.3)\n",
      "Requirement already satisfied: scipy>=1.5.0 in /Users/andreyboriskin/anaconda3/lib/python3.11/site-packages (from scikit-learn) (1.11.1)\n",
      "Requirement already satisfied: joblib>=1.1.1 in /Users/andreyboriskin/anaconda3/lib/python3.11/site-packages (from scikit-learn) (1.2.0)\n",
      "Requirement already satisfied: threadpoolctl>=2.0.0 in /Users/andreyboriskin/anaconda3/lib/python3.11/site-packages (from scikit-learn) (2.2.0)\n",
      "Requirement already satisfied: hyperopt in /Users/andreyboriskin/anaconda3/lib/python3.11/site-packages (0.2.7)\n",
      "Requirement already satisfied: numpy in /Users/andreyboriskin/anaconda3/lib/python3.11/site-packages (from hyperopt) (1.24.3)\n",
      "Requirement already satisfied: scipy in /Users/andreyboriskin/anaconda3/lib/python3.11/site-packages (from hyperopt) (1.11.1)\n",
      "Requirement already satisfied: six in /Users/andreyboriskin/anaconda3/lib/python3.11/site-packages (from hyperopt) (1.16.0)\n",
      "Requirement already satisfied: networkx>=2.2 in /Users/andreyboriskin/anaconda3/lib/python3.11/site-packages (from hyperopt) (3.1)\n",
      "Requirement already satisfied: future in /Users/andreyboriskin/anaconda3/lib/python3.11/site-packages (from hyperopt) (0.18.3)\n",
      "Requirement already satisfied: tqdm in /Users/andreyboriskin/anaconda3/lib/python3.11/site-packages (from hyperopt) (4.65.0)\n",
      "Requirement already satisfied: cloudpickle in /Users/andreyboriskin/anaconda3/lib/python3.11/site-packages (from hyperopt) (2.2.1)\n",
      "Requirement already satisfied: py4j in /Users/andreyboriskin/anaconda3/lib/python3.11/site-packages (from hyperopt) (0.10.9.7)\n",
      "Requirement already satisfied: pandas in /Users/andreyboriskin/anaconda3/lib/python3.11/site-packages (2.0.3)\n",
      "Requirement already satisfied: python-dateutil>=2.8.2 in /Users/andreyboriskin/anaconda3/lib/python3.11/site-packages (from pandas) (2.8.2)\n",
      "Requirement already satisfied: pytz>=2020.1 in /Users/andreyboriskin/anaconda3/lib/python3.11/site-packages (from pandas) (2023.3.post1)\n",
      "Requirement already satisfied: tzdata>=2022.1 in /Users/andreyboriskin/anaconda3/lib/python3.11/site-packages (from pandas) (2023.3)\n",
      "Requirement already satisfied: numpy>=1.21.0 in /Users/andreyboriskin/anaconda3/lib/python3.11/site-packages (from pandas) (1.24.3)\n",
      "Requirement already satisfied: six>=1.5 in /Users/andreyboriskin/anaconda3/lib/python3.11/site-packages (from python-dateutil>=2.8.2->pandas) (1.16.0)\n"
     ]
    }
   ],
   "source": [
    "!pip install catboost\n",
    "!pip install shap\n",
    "!pip install scikit-learn\n",
    "!pip install hyperopt\n",
    "!pip install pandas"
   ]
  },
  {
   "cell_type": "code",
   "execution_count": 1,
   "id": "666b00e8",
   "metadata": {
    "executionInfo": {
     "elapsed": 1967,
     "status": "ok",
     "timestamp": 1697055635480,
     "user": {
      "displayName": "Андрей Борискин",
      "userId": "13356073131863959443"
     },
     "user_tz": -180
    },
    "id": "666b00e8",
    "tags": []
   },
   "outputs": [],
   "source": [
    "import os\n",
    "import pandas as pd\n",
    "pd.set_option('display.max_columns', None)\n",
    "import numpy as np\n",
    "np.set_printoptions(precision=4)\n",
    "import catboost"
   ]
  },
  {
   "cell_type": "markdown",
   "id": "d66f06ef-286a-42ec-95a2-06eee736768e",
   "metadata": {
    "id": "d66f06ef-286a-42ec-95a2-06eee736768e"
   },
   "source": [
    "# Загрузка DataFrame (train and test)"
   ]
  },
  {
   "cell_type": "code",
   "execution_count": 442,
   "id": "bf2386da",
   "metadata": {
    "executionInfo": {
     "elapsed": 4239,
     "status": "ok",
     "timestamp": 1697055764310,
     "user": {
      "displayName": "Андрей Борискин",
      "userId": "13356073131863959443"
     },
     "user_tz": -180
    },
    "id": "bf2386da",
    "tags": []
   },
   "outputs": [],
   "source": [
    "train_df, test_df = pd.read_csv('train_AIC.csv', encoding='utf-8'), pd.read_csv('test_AIC.csv', encoding='utf-8')"
   ]
  },
  {
   "cell_type": "markdown",
   "id": "71a18db5-b665-4d99-b69a-953948009e66",
   "metadata": {
    "id": "71a18db5-b665-4d99-b69a-953948009e66"
   },
   "source": [
    "### Распределение фичей (category, int, float)"
   ]
  },
  {
   "cell_type": "code",
   "execution_count": 5,
   "id": "af454047",
   "metadata": {
    "id": "af454047",
    "tags": []
   },
   "outputs": [],
   "source": [
    "train_df['НРП'] = train_df['НРП'].apply(int)\n",
    "test_df['НРП'] = test_df['НРП'].apply(int)"
   ]
  },
  {
   "cell_type": "code",
   "execution_count": 427,
   "id": "28e3b4b7",
   "metadata": {
    "id": "28e3b4b7",
    "tags": []
   },
   "outputs": [],
   "source": [
    "cat_features = ['Поставщик', 'Материал', 'Категорийный менеджер', 'Операционный менеджер', 'Завод', 'Закупочная организация',\n",
    "                'Балансовая единица', 'Вариант поставки', 'ЕИ', 'Группа материалов', 'НРП', 'Месяц1', 'Месяц2', 'Месяц3', 'День недели 2',\n",
    "                'Отмена полного деблокирования заказа на закупку', 'Изменение позиции заказа на закупку: изменение даты поставки на бумаге',\n",
    "                'Изменение позиции заказа на закупку: дата поставки', 'Согласование заказа 1', 'Согласование заказа 2',\n",
    "                'Согласование заказа 3']\n",
    "\n",
    "int_features = ['Длительность', 'До поставки', 'Количество позиций', 'Количество обработчиков 7', 'Количество обработчиков 15',\n",
    "               'Количество обработчиков 30', 'Количество изменений после согласований', 'Дней между 0_1', 'Дней между 1_2',\n",
    "               'Дней между 2_3', 'Дней между 3_4', 'Дней между 4_5', 'Дней между 5_6', 'Дней между 6_7', 'Дней между 7_8']\n",
    "\n",
    "float_features = ['Сумма', 'Количество', 'Количество циклов согласования']"
   ]
  },
  {
   "cell_type": "markdown",
   "id": "29da56cc-c3eb-4362-a56a-39f9b82b3455",
   "metadata": {
    "id": "29da56cc-c3eb-4362-a56a-39f9b82b3455"
   },
   "source": [
    "# Создание датасета для обучения модели"
   ]
  },
  {
   "cell_type": "code",
   "execution_count": 5,
   "id": "24d6e74e",
   "metadata": {
    "executionInfo": {
     "elapsed": 373,
     "status": "ok",
     "timestamp": 1697055769818,
     "user": {
      "displayName": "Андрей Борискин",
      "userId": "13356073131863959443"
     },
     "user_tz": -180
    },
    "id": "24d6e74e",
    "tags": []
   },
   "outputs": [],
   "source": [
    "y = train_df.y\n",
    "x = train_df.drop('y', axis=1)"
   ]
  },
  {
   "cell_type": "code",
   "execution_count": 6,
   "id": "ecb913dd",
   "metadata": {
    "executionInfo": {
     "elapsed": 544,
     "status": "ok",
     "timestamp": 1697055770358,
     "user": {
      "displayName": "Андрей Борискин",
      "userId": "13356073131863959443"
     },
     "user_tz": -180
    },
    "id": "ecb913dd",
    "tags": []
   },
   "outputs": [],
   "source": [
    "from sklearn.model_selection import train_test_split\n",
    "x_train, x_validation, y_train, y_validation = train_test_split(x, y, train_size = 0.8, random_state=42)"
   ]
  },
  {
   "cell_type": "code",
   "execution_count": 7,
   "id": "5a92b657",
   "metadata": {
    "executionInfo": {
     "elapsed": 325,
     "status": "ok",
     "timestamp": 1697055826200,
     "user": {
      "displayName": "Андрей Борискин",
      "userId": "13356073131863959443"
     },
     "user_tz": -180
    },
    "id": "5a92b657",
    "tags": []
   },
   "outputs": [],
   "source": [
    "from hyperopt import fmin, hp, tpe, Trials, space_eval, STATUS_OK\n",
    "from catboost import CatBoostClassifier"
   ]
  },
  {
   "cell_type": "markdown",
   "id": "b05a4c2b-4484-4cd2-97e6-3d19f5c89099",
   "metadata": {
    "id": "b05a4c2b-4484-4cd2-97e6-3d19f5c89099"
   },
   "source": [
    "# Поиск гиперпараметров"
   ]
  },
  {
   "cell_type": "code",
   "execution_count": null,
   "id": "9db43148",
   "metadata": {
    "id": "9db43148",
    "tags": []
   },
   "outputs": [],
   "source": [
    "def objective(search):\n",
    "    model = CatBoostClassifier(**search,\n",
    "                                custom_loss=['Logloss'],\n",
    "                                eval_metric='F1',\n",
    "                                task_type=\"GPU\",\n",
    "                                verbose=False,\n",
    "                                early_stopping_rounds=100,\n",
    "                                random_seed=42)\n",
    "\n",
    "    model.fit(X = x_train, y = y_train, eval_set=(x_validation, y_validation), verbose=False)\n",
    "    return {'loss': model.get_best_score()['validation']['F1'], 'status': STATUS_OK}\n",
    "\n",
    "search_medium = {'learning_rate': hp.uniform('learning_rate', 0.01, 1),\n",
    "                'iterations': hp.randint('iterations', 500, 3000),\n",
    "                'l2_leaf_reg': hp.randint('l2_leaf_reg', 0, 5),\n",
    "                'random_strength': hp.randint('random_strength', 0, 4),\n",
    "                'depth': hp.randint('depth', 0, 16)\n",
    "               }\n",
    "\n",
    "algorithm=tpe.suggest"
   ]
  },
  {
   "cell_type": "code",
   "execution_count": null,
   "id": "7ab2b039",
   "metadata": {
    "colab": {
     "base_uri": "https://localhost:8080/",
     "height": 478
    },
    "collapsed": true,
    "id": "7ab2b039",
    "jupyter": {
     "outputs_hidden": true
    },
    "outputId": "fa72cb38-4b81-483b-fc64-10d6240c615e",
    "tags": []
   },
   "outputs": [
    {
     "name": "stdout",
     "output_type": "stream",
     "text": [
      " 16%|███████                                     | 16/100 [10:22<1:21:05, 57.92s/trial, best loss: 0.35164059743619897]"
     ]
    },
    {
     "name": "stderr",
     "output_type": "stream",
     "text": [
      "job exception: C:/Go_Agent/pipelines/BuildMaster/catboost.git/catboost/cuda/methods/oblivious_tree_doc_parallel_structure_searcher.cpp:160: 1 0\n",
      "\n"
     ]
    },
    {
     "name": "stdout",
     "output_type": "stream",
     "text": [
      " 16%|███████▎                                      | 16/100 [10:23<54:31, 38.94s/trial, best loss: 0.35164059743619897]\n"
     ]
    },
    {
     "ename": "CatBoostError",
     "evalue": "C:/Go_Agent/pipelines/BuildMaster/catboost.git/catboost/cuda/methods/oblivious_tree_doc_parallel_structure_searcher.cpp:160: 1 0",
     "output_type": "error",
     "traceback": [
      "\u001b[1;31m---------------------------------------------------------------------------\u001b[0m",
      "\u001b[1;31mCatBoostError\u001b[0m                             Traceback (most recent call last)",
      "Cell \u001b[1;32mIn[152], line 1\u001b[0m\n\u001b[1;32m----> 1\u001b[0m medium_params \u001b[38;5;241m=\u001b[39m \u001b[43mfmin\u001b[49m\u001b[43m(\u001b[49m\n\u001b[0;32m      2\u001b[0m \u001b[43m  \u001b[49m\u001b[43mfn\u001b[49m\u001b[38;5;241;43m=\u001b[39;49m\u001b[43mobjective\u001b[49m\u001b[43m,\u001b[49m\n\u001b[0;32m      3\u001b[0m \u001b[43m  \u001b[49m\u001b[43mspace\u001b[49m\u001b[38;5;241;43m=\u001b[39;49m\u001b[43msearch_medium\u001b[49m\u001b[43m,\u001b[49m\n\u001b[0;32m      4\u001b[0m \u001b[43m  \u001b[49m\u001b[43malgo\u001b[49m\u001b[38;5;241;43m=\u001b[39;49m\u001b[43malgorithm\u001b[49m\u001b[43m,\u001b[49m\n\u001b[0;32m      5\u001b[0m \u001b[43m  \u001b[49m\u001b[43mmax_evals\u001b[49m\u001b[38;5;241;43m=\u001b[39;49m\u001b[38;5;241;43m100\u001b[39;49m\n\u001b[0;32m      6\u001b[0m \u001b[43m)\u001b[49m\n",
      "File \u001b[1;32m~\\AppData\\Local\\Programs\\Python\\Python39\\lib\\site-packages\\hyperopt\\fmin.py:586\u001b[0m, in \u001b[0;36mfmin\u001b[1;34m(fn, space, algo, max_evals, timeout, loss_threshold, trials, rstate, allow_trials_fmin, pass_expr_memo_ctrl, catch_eval_exceptions, verbose, return_argmin, points_to_evaluate, max_queue_len, show_progressbar, early_stop_fn, trials_save_file)\u001b[0m\n\u001b[0;32m    583\u001b[0m rval\u001b[38;5;241m.\u001b[39mcatch_eval_exceptions \u001b[38;5;241m=\u001b[39m catch_eval_exceptions\n\u001b[0;32m    585\u001b[0m \u001b[38;5;66;03m# next line is where the fmin is actually executed\u001b[39;00m\n\u001b[1;32m--> 586\u001b[0m \u001b[43mrval\u001b[49m\u001b[38;5;241;43m.\u001b[39;49m\u001b[43mexhaust\u001b[49m\u001b[43m(\u001b[49m\u001b[43m)\u001b[49m\n\u001b[0;32m    588\u001b[0m \u001b[38;5;28;01mif\u001b[39;00m return_argmin:\n\u001b[0;32m    589\u001b[0m     \u001b[38;5;28;01mif\u001b[39;00m \u001b[38;5;28mlen\u001b[39m(trials\u001b[38;5;241m.\u001b[39mtrials) \u001b[38;5;241m==\u001b[39m \u001b[38;5;241m0\u001b[39m:\n",
      "File \u001b[1;32m~\\AppData\\Local\\Programs\\Python\\Python39\\lib\\site-packages\\hyperopt\\fmin.py:364\u001b[0m, in \u001b[0;36mFMinIter.exhaust\u001b[1;34m(self)\u001b[0m\n\u001b[0;32m    362\u001b[0m \u001b[38;5;28;01mdef\u001b[39;00m \u001b[38;5;21mexhaust\u001b[39m(\u001b[38;5;28mself\u001b[39m):\n\u001b[0;32m    363\u001b[0m     n_done \u001b[38;5;241m=\u001b[39m \u001b[38;5;28mlen\u001b[39m(\u001b[38;5;28mself\u001b[39m\u001b[38;5;241m.\u001b[39mtrials)\n\u001b[1;32m--> 364\u001b[0m     \u001b[38;5;28;43mself\u001b[39;49m\u001b[38;5;241;43m.\u001b[39;49m\u001b[43mrun\u001b[49m\u001b[43m(\u001b[49m\u001b[38;5;28;43mself\u001b[39;49m\u001b[38;5;241;43m.\u001b[39;49m\u001b[43mmax_evals\u001b[49m\u001b[43m \u001b[49m\u001b[38;5;241;43m-\u001b[39;49m\u001b[43m \u001b[49m\u001b[43mn_done\u001b[49m\u001b[43m,\u001b[49m\u001b[43m \u001b[49m\u001b[43mblock_until_done\u001b[49m\u001b[38;5;241;43m=\u001b[39;49m\u001b[38;5;28;43mself\u001b[39;49m\u001b[38;5;241;43m.\u001b[39;49m\u001b[43masynchronous\u001b[49m\u001b[43m)\u001b[49m\n\u001b[0;32m    365\u001b[0m     \u001b[38;5;28mself\u001b[39m\u001b[38;5;241m.\u001b[39mtrials\u001b[38;5;241m.\u001b[39mrefresh()\n\u001b[0;32m    366\u001b[0m     \u001b[38;5;28;01mreturn\u001b[39;00m \u001b[38;5;28mself\u001b[39m\n",
      "File \u001b[1;32m~\\AppData\\Local\\Programs\\Python\\Python39\\lib\\site-packages\\hyperopt\\fmin.py:300\u001b[0m, in \u001b[0;36mFMinIter.run\u001b[1;34m(self, N, block_until_done)\u001b[0m\n\u001b[0;32m    297\u001b[0m     time\u001b[38;5;241m.\u001b[39msleep(\u001b[38;5;28mself\u001b[39m\u001b[38;5;241m.\u001b[39mpoll_interval_secs)\n\u001b[0;32m    298\u001b[0m \u001b[38;5;28;01melse\u001b[39;00m:\n\u001b[0;32m    299\u001b[0m     \u001b[38;5;66;03m# -- loop over trials and do the jobs directly\u001b[39;00m\n\u001b[1;32m--> 300\u001b[0m     \u001b[38;5;28;43mself\u001b[39;49m\u001b[38;5;241;43m.\u001b[39;49m\u001b[43mserial_evaluate\u001b[49m\u001b[43m(\u001b[49m\u001b[43m)\u001b[49m\n\u001b[0;32m    302\u001b[0m \u001b[38;5;28mself\u001b[39m\u001b[38;5;241m.\u001b[39mtrials\u001b[38;5;241m.\u001b[39mrefresh()\n\u001b[0;32m    303\u001b[0m \u001b[38;5;28;01mif\u001b[39;00m \u001b[38;5;28mself\u001b[39m\u001b[38;5;241m.\u001b[39mtrials_save_file \u001b[38;5;241m!=\u001b[39m \u001b[38;5;124m\"\u001b[39m\u001b[38;5;124m\"\u001b[39m:\n",
      "File \u001b[1;32m~\\AppData\\Local\\Programs\\Python\\Python39\\lib\\site-packages\\hyperopt\\fmin.py:178\u001b[0m, in \u001b[0;36mFMinIter.serial_evaluate\u001b[1;34m(self, N)\u001b[0m\n\u001b[0;32m    176\u001b[0m ctrl \u001b[38;5;241m=\u001b[39m base\u001b[38;5;241m.\u001b[39mCtrl(\u001b[38;5;28mself\u001b[39m\u001b[38;5;241m.\u001b[39mtrials, current_trial\u001b[38;5;241m=\u001b[39mtrial)\n\u001b[0;32m    177\u001b[0m \u001b[38;5;28;01mtry\u001b[39;00m:\n\u001b[1;32m--> 178\u001b[0m     result \u001b[38;5;241m=\u001b[39m \u001b[38;5;28;43mself\u001b[39;49m\u001b[38;5;241;43m.\u001b[39;49m\u001b[43mdomain\u001b[49m\u001b[38;5;241;43m.\u001b[39;49m\u001b[43mevaluate\u001b[49m\u001b[43m(\u001b[49m\u001b[43mspec\u001b[49m\u001b[43m,\u001b[49m\u001b[43m \u001b[49m\u001b[43mctrl\u001b[49m\u001b[43m)\u001b[49m\n\u001b[0;32m    179\u001b[0m \u001b[38;5;28;01mexcept\u001b[39;00m \u001b[38;5;167;01mException\u001b[39;00m \u001b[38;5;28;01mas\u001b[39;00m e:\n\u001b[0;32m    180\u001b[0m     logger\u001b[38;5;241m.\u001b[39merror(\u001b[38;5;124m\"\u001b[39m\u001b[38;5;124mjob exception: \u001b[39m\u001b[38;5;132;01m%s\u001b[39;00m\u001b[38;5;124m\"\u001b[39m \u001b[38;5;241m%\u001b[39m \u001b[38;5;28mstr\u001b[39m(e))\n",
      "File \u001b[1;32m~\\AppData\\Local\\Programs\\Python\\Python39\\lib\\site-packages\\hyperopt\\base.py:892\u001b[0m, in \u001b[0;36mDomain.evaluate\u001b[1;34m(self, config, ctrl, attach_attachments)\u001b[0m\n\u001b[0;32m    883\u001b[0m \u001b[38;5;28;01melse\u001b[39;00m:\n\u001b[0;32m    884\u001b[0m     \u001b[38;5;66;03m# -- the \"work\" of evaluating `config` can be written\u001b[39;00m\n\u001b[0;32m    885\u001b[0m     \u001b[38;5;66;03m#    either into the pyll part (self.expr)\u001b[39;00m\n\u001b[0;32m    886\u001b[0m     \u001b[38;5;66;03m#    or the normal Python part (self.fn)\u001b[39;00m\n\u001b[0;32m    887\u001b[0m     pyll_rval \u001b[38;5;241m=\u001b[39m pyll\u001b[38;5;241m.\u001b[39mrec_eval(\n\u001b[0;32m    888\u001b[0m         \u001b[38;5;28mself\u001b[39m\u001b[38;5;241m.\u001b[39mexpr,\n\u001b[0;32m    889\u001b[0m         memo\u001b[38;5;241m=\u001b[39mmemo,\n\u001b[0;32m    890\u001b[0m         print_node_on_error\u001b[38;5;241m=\u001b[39m\u001b[38;5;28mself\u001b[39m\u001b[38;5;241m.\u001b[39mrec_eval_print_node_on_error,\n\u001b[0;32m    891\u001b[0m     )\n\u001b[1;32m--> 892\u001b[0m     rval \u001b[38;5;241m=\u001b[39m \u001b[38;5;28;43mself\u001b[39;49m\u001b[38;5;241;43m.\u001b[39;49m\u001b[43mfn\u001b[49m\u001b[43m(\u001b[49m\u001b[43mpyll_rval\u001b[49m\u001b[43m)\u001b[49m\n\u001b[0;32m    894\u001b[0m \u001b[38;5;28;01mif\u001b[39;00m \u001b[38;5;28misinstance\u001b[39m(rval, (\u001b[38;5;28mfloat\u001b[39m, \u001b[38;5;28mint\u001b[39m, np\u001b[38;5;241m.\u001b[39mnumber)):\n\u001b[0;32m    895\u001b[0m     dict_rval \u001b[38;5;241m=\u001b[39m {\u001b[38;5;124m\"\u001b[39m\u001b[38;5;124mloss\u001b[39m\u001b[38;5;124m\"\u001b[39m: \u001b[38;5;28mfloat\u001b[39m(rval), \u001b[38;5;124m\"\u001b[39m\u001b[38;5;124mstatus\u001b[39m\u001b[38;5;124m\"\u001b[39m: STATUS_OK}\n",
      "Cell \u001b[1;32mIn[150], line 10\u001b[0m, in \u001b[0;36mobjective\u001b[1;34m(search)\u001b[0m\n\u001b[0;32m      1\u001b[0m \u001b[38;5;28;01mdef\u001b[39;00m \u001b[38;5;21mobjective\u001b[39m(search):\n\u001b[0;32m      2\u001b[0m     model \u001b[38;5;241m=\u001b[39m CatBoostClassifier(\u001b[38;5;241m*\u001b[39m\u001b[38;5;241m*\u001b[39msearch,\n\u001b[0;32m      3\u001b[0m                                 custom_loss\u001b[38;5;241m=\u001b[39m[\u001b[38;5;124m'\u001b[39m\u001b[38;5;124mLogloss\u001b[39m\u001b[38;5;124m'\u001b[39m],\n\u001b[0;32m      4\u001b[0m                                 eval_metric\u001b[38;5;241m=\u001b[39m\u001b[38;5;124m'\u001b[39m\u001b[38;5;124mF1\u001b[39m\u001b[38;5;124m'\u001b[39m,\n\u001b[1;32m   (...)\u001b[0m\n\u001b[0;32m      7\u001b[0m                                 early_stopping_rounds\u001b[38;5;241m=\u001b[39m\u001b[38;5;241m100\u001b[39m,\n\u001b[0;32m      8\u001b[0m                                 random_seed\u001b[38;5;241m=\u001b[39m\u001b[38;5;241m42\u001b[39m)\n\u001b[1;32m---> 10\u001b[0m     \u001b[43mmodel\u001b[49m\u001b[38;5;241;43m.\u001b[39;49m\u001b[43mfit\u001b[49m\u001b[43m(\u001b[49m\u001b[43mX\u001b[49m\u001b[43m \u001b[49m\u001b[38;5;241;43m=\u001b[39;49m\u001b[43m \u001b[49m\u001b[43mx_train\u001b[49m\u001b[43m,\u001b[49m\u001b[43m \u001b[49m\u001b[43my\u001b[49m\u001b[43m \u001b[49m\u001b[38;5;241;43m=\u001b[39;49m\u001b[43m \u001b[49m\u001b[43my_train\u001b[49m\u001b[43m,\u001b[49m\u001b[43m \u001b[49m\u001b[43meval_set\u001b[49m\u001b[38;5;241;43m=\u001b[39;49m\u001b[43m(\u001b[49m\u001b[43mx_validation\u001b[49m\u001b[43m,\u001b[49m\u001b[43m \u001b[49m\u001b[43my_validation\u001b[49m\u001b[43m)\u001b[49m\u001b[43m,\u001b[49m\u001b[43m \u001b[49m\u001b[43mverbose\u001b[49m\u001b[38;5;241;43m=\u001b[39;49m\u001b[38;5;28;43;01mFalse\u001b[39;49;00m\u001b[43m)\u001b[49m\n\u001b[0;32m     11\u001b[0m     \u001b[38;5;28;01mreturn\u001b[39;00m {\u001b[38;5;124m'\u001b[39m\u001b[38;5;124mloss\u001b[39m\u001b[38;5;124m'\u001b[39m: model\u001b[38;5;241m.\u001b[39mget_best_score()[\u001b[38;5;124m'\u001b[39m\u001b[38;5;124mvalidation\u001b[39m\u001b[38;5;124m'\u001b[39m][\u001b[38;5;124m'\u001b[39m\u001b[38;5;124mF1\u001b[39m\u001b[38;5;124m'\u001b[39m], \u001b[38;5;124m'\u001b[39m\u001b[38;5;124mstatus\u001b[39m\u001b[38;5;124m'\u001b[39m: STATUS_OK}\n",
      "File \u001b[1;32m~\\AppData\\Roaming\\Python\\Python39\\site-packages\\catboost\\core.py:5100\u001b[0m, in \u001b[0;36mCatBoostClassifier.fit\u001b[1;34m(self, X, y, cat_features, text_features, embedding_features, sample_weight, baseline, use_best_model, eval_set, verbose, logging_level, plot, plot_file, column_description, verbose_eval, metric_period, silent, early_stopping_rounds, save_snapshot, snapshot_file, snapshot_interval, init_model, callbacks, log_cout, log_cerr)\u001b[0m\n\u001b[0;32m   5097\u001b[0m \u001b[38;5;28;01mif\u001b[39;00m \u001b[38;5;124m'\u001b[39m\u001b[38;5;124mloss_function\u001b[39m\u001b[38;5;124m'\u001b[39m \u001b[38;5;129;01min\u001b[39;00m params:\n\u001b[0;32m   5098\u001b[0m     CatBoostClassifier\u001b[38;5;241m.\u001b[39m_check_is_compatible_loss(params[\u001b[38;5;124m'\u001b[39m\u001b[38;5;124mloss_function\u001b[39m\u001b[38;5;124m'\u001b[39m])\n\u001b[1;32m-> 5100\u001b[0m \u001b[38;5;28;43mself\u001b[39;49m\u001b[38;5;241;43m.\u001b[39;49m\u001b[43m_fit\u001b[49m\u001b[43m(\u001b[49m\u001b[43mX\u001b[49m\u001b[43m,\u001b[49m\u001b[43m \u001b[49m\u001b[43my\u001b[49m\u001b[43m,\u001b[49m\u001b[43m \u001b[49m\u001b[43mcat_features\u001b[49m\u001b[43m,\u001b[49m\u001b[43m \u001b[49m\u001b[43mtext_features\u001b[49m\u001b[43m,\u001b[49m\u001b[43m \u001b[49m\u001b[43membedding_features\u001b[49m\u001b[43m,\u001b[49m\u001b[43m \u001b[49m\u001b[38;5;28;43;01mNone\u001b[39;49;00m\u001b[43m,\u001b[49m\u001b[43m \u001b[49m\u001b[43msample_weight\u001b[49m\u001b[43m,\u001b[49m\u001b[43m \u001b[49m\u001b[38;5;28;43;01mNone\u001b[39;49;00m\u001b[43m,\u001b[49m\u001b[43m \u001b[49m\u001b[38;5;28;43;01mNone\u001b[39;49;00m\u001b[43m,\u001b[49m\u001b[43m \u001b[49m\u001b[38;5;28;43;01mNone\u001b[39;49;00m\u001b[43m,\u001b[49m\u001b[43m \u001b[49m\u001b[38;5;28;43;01mNone\u001b[39;49;00m\u001b[43m,\u001b[49m\u001b[43m \u001b[49m\u001b[43mbaseline\u001b[49m\u001b[43m,\u001b[49m\u001b[43m \u001b[49m\u001b[43muse_best_model\u001b[49m\u001b[43m,\u001b[49m\n\u001b[0;32m   5101\u001b[0m \u001b[43m          \u001b[49m\u001b[43meval_set\u001b[49m\u001b[43m,\u001b[49m\u001b[43m \u001b[49m\u001b[43mverbose\u001b[49m\u001b[43m,\u001b[49m\u001b[43m \u001b[49m\u001b[43mlogging_level\u001b[49m\u001b[43m,\u001b[49m\u001b[43m \u001b[49m\u001b[43mplot\u001b[49m\u001b[43m,\u001b[49m\u001b[43m \u001b[49m\u001b[43mplot_file\u001b[49m\u001b[43m,\u001b[49m\u001b[43m \u001b[49m\u001b[43mcolumn_description\u001b[49m\u001b[43m,\u001b[49m\u001b[43m \u001b[49m\u001b[43mverbose_eval\u001b[49m\u001b[43m,\u001b[49m\u001b[43m \u001b[49m\u001b[43mmetric_period\u001b[49m\u001b[43m,\u001b[49m\n\u001b[0;32m   5102\u001b[0m \u001b[43m          \u001b[49m\u001b[43msilent\u001b[49m\u001b[43m,\u001b[49m\u001b[43m \u001b[49m\u001b[43mearly_stopping_rounds\u001b[49m\u001b[43m,\u001b[49m\u001b[43m \u001b[49m\u001b[43msave_snapshot\u001b[49m\u001b[43m,\u001b[49m\u001b[43m \u001b[49m\u001b[43msnapshot_file\u001b[49m\u001b[43m,\u001b[49m\u001b[43m \u001b[49m\u001b[43msnapshot_interval\u001b[49m\u001b[43m,\u001b[49m\u001b[43m \u001b[49m\u001b[43minit_model\u001b[49m\u001b[43m,\u001b[49m\u001b[43m \u001b[49m\u001b[43mcallbacks\u001b[49m\u001b[43m,\u001b[49m\u001b[43m \u001b[49m\u001b[43mlog_cout\u001b[49m\u001b[43m,\u001b[49m\u001b[43m \u001b[49m\u001b[43mlog_cerr\u001b[49m\u001b[43m)\u001b[49m\n\u001b[0;32m   5103\u001b[0m \u001b[38;5;28;01mreturn\u001b[39;00m \u001b[38;5;28mself\u001b[39m\n",
      "File \u001b[1;32m~\\AppData\\Roaming\\Python\\Python39\\site-packages\\catboost\\core.py:2319\u001b[0m, in \u001b[0;36mCatBoost._fit\u001b[1;34m(self, X, y, cat_features, text_features, embedding_features, pairs, sample_weight, group_id, group_weight, subgroup_id, pairs_weight, baseline, use_best_model, eval_set, verbose, logging_level, plot, plot_file, column_description, verbose_eval, metric_period, silent, early_stopping_rounds, save_snapshot, snapshot_file, snapshot_interval, init_model, callbacks, log_cout, log_cerr)\u001b[0m\n\u001b[0;32m   2315\u001b[0m allow_clear_pool \u001b[38;5;241m=\u001b[39m train_params[\u001b[38;5;124m\"\u001b[39m\u001b[38;5;124mallow_clear_pool\u001b[39m\u001b[38;5;124m\"\u001b[39m]\n\u001b[0;32m   2317\u001b[0m \u001b[38;5;28;01mwith\u001b[39;00m log_fixup(log_cout, log_cerr), \\\n\u001b[0;32m   2318\u001b[0m     plot_wrapper(plot, plot_file, \u001b[38;5;124m'\u001b[39m\u001b[38;5;124mTraining plots\u001b[39m\u001b[38;5;124m'\u001b[39m, [_get_train_dir(\u001b[38;5;28mself\u001b[39m\u001b[38;5;241m.\u001b[39mget_params())]):\n\u001b[1;32m-> 2319\u001b[0m     \u001b[38;5;28;43mself\u001b[39;49m\u001b[38;5;241;43m.\u001b[39;49m\u001b[43m_train\u001b[49m\u001b[43m(\u001b[49m\n\u001b[0;32m   2320\u001b[0m \u001b[43m        \u001b[49m\u001b[43mtrain_pool\u001b[49m\u001b[43m,\u001b[49m\n\u001b[0;32m   2321\u001b[0m \u001b[43m        \u001b[49m\u001b[43mtrain_params\u001b[49m\u001b[43m[\u001b[49m\u001b[38;5;124;43m\"\u001b[39;49m\u001b[38;5;124;43meval_sets\u001b[39;49m\u001b[38;5;124;43m\"\u001b[39;49m\u001b[43m]\u001b[49m\u001b[43m,\u001b[49m\n\u001b[0;32m   2322\u001b[0m \u001b[43m        \u001b[49m\u001b[43mparams\u001b[49m\u001b[43m,\u001b[49m\n\u001b[0;32m   2323\u001b[0m \u001b[43m        \u001b[49m\u001b[43mallow_clear_pool\u001b[49m\u001b[43m,\u001b[49m\n\u001b[0;32m   2324\u001b[0m \u001b[43m        \u001b[49m\u001b[43mtrain_params\u001b[49m\u001b[43m[\u001b[49m\u001b[38;5;124;43m\"\u001b[39;49m\u001b[38;5;124;43minit_model\u001b[39;49m\u001b[38;5;124;43m\"\u001b[39;49m\u001b[43m]\u001b[49m\n\u001b[0;32m   2325\u001b[0m \u001b[43m    \u001b[49m\u001b[43m)\u001b[49m\n\u001b[0;32m   2327\u001b[0m \u001b[38;5;66;03m# Have property feature_importance possibly set\u001b[39;00m\n\u001b[0;32m   2328\u001b[0m loss \u001b[38;5;241m=\u001b[39m \u001b[38;5;28mself\u001b[39m\u001b[38;5;241m.\u001b[39m_object\u001b[38;5;241m.\u001b[39m_get_loss_function_name()\n",
      "File \u001b[1;32m~\\AppData\\Roaming\\Python\\Python39\\site-packages\\catboost\\core.py:1723\u001b[0m, in \u001b[0;36m_CatBoostBase._train\u001b[1;34m(self, train_pool, test_pool, params, allow_clear_pool, init_model)\u001b[0m\n\u001b[0;32m   1722\u001b[0m \u001b[38;5;28;01mdef\u001b[39;00m \u001b[38;5;21m_train\u001b[39m(\u001b[38;5;28mself\u001b[39m, train_pool, test_pool, params, allow_clear_pool, init_model):\n\u001b[1;32m-> 1723\u001b[0m     \u001b[38;5;28;43mself\u001b[39;49m\u001b[38;5;241;43m.\u001b[39;49m\u001b[43m_object\u001b[49m\u001b[38;5;241;43m.\u001b[39;49m\u001b[43m_train\u001b[49m\u001b[43m(\u001b[49m\u001b[43mtrain_pool\u001b[49m\u001b[43m,\u001b[49m\u001b[43m \u001b[49m\u001b[43mtest_pool\u001b[49m\u001b[43m,\u001b[49m\u001b[43m \u001b[49m\u001b[43mparams\u001b[49m\u001b[43m,\u001b[49m\u001b[43m \u001b[49m\u001b[43mallow_clear_pool\u001b[49m\u001b[43m,\u001b[49m\u001b[43m \u001b[49m\u001b[43minit_model\u001b[49m\u001b[38;5;241;43m.\u001b[39;49m\u001b[43m_object\u001b[49m\u001b[43m \u001b[49m\u001b[38;5;28;43;01mif\u001b[39;49;00m\u001b[43m \u001b[49m\u001b[43minit_model\u001b[49m\u001b[43m \u001b[49m\u001b[38;5;28;43;01melse\u001b[39;49;00m\u001b[43m \u001b[49m\u001b[38;5;28;43;01mNone\u001b[39;49;00m\u001b[43m)\u001b[49m\n\u001b[0;32m   1724\u001b[0m     \u001b[38;5;28mself\u001b[39m\u001b[38;5;241m.\u001b[39m_set_trained_model_attributes()\n",
      "File \u001b[1;32m_catboost.pyx:4645\u001b[0m, in \u001b[0;36m_catboost._CatBoost._train\u001b[1;34m()\u001b[0m\n",
      "File \u001b[1;32m_catboost.pyx:4694\u001b[0m, in \u001b[0;36m_catboost._CatBoost._train\u001b[1;34m()\u001b[0m\n",
      "\u001b[1;31mCatBoostError\u001b[0m: C:/Go_Agent/pipelines/BuildMaster/catboost.git/catboost/cuda/methods/oblivious_tree_doc_parallel_structure_searcher.cpp:160: 1 0"
     ]
    }
   ],
   "source": [
    "medium_params = fmin(\n",
    "  fn=objective,\n",
    "  space=search_medium,\n",
    "  algo=algorithm,\n",
    "  max_evals=100\n",
    ")"
   ]
  },
  {
   "cell_type": "code",
   "execution_count": null,
   "id": "0a168f7d-c7a4-467e-bd00-61ad9d08eabe",
   "metadata": {
    "id": "0a168f7d-c7a4-467e-bd00-61ad9d08eabe",
    "tags": []
   },
   "outputs": [],
   "source": [
    "catboost_hyperparams_medium = space_eval(search_medium, medium_params)\n",
    "print(catboost_hyperparams_medium)"
   ]
  },
  {
   "cell_type": "code",
   "execution_count": 11,
   "id": "cYl4FOaE6EXO",
   "metadata": {
    "id": "cYl4FOaE6EXO",
    "tags": []
   },
   "outputs": [],
   "source": [
    "catboost_hyperparams_medium = {'depth': 9, 'iterations': 2692, 'l2_leaf_reg': 2, 'learning_rate': 0.19302925722420228, 'random_strength': 2}"
   ]
  },
  {
   "cell_type": "code",
   "execution_count": 23,
   "id": "9007ce8e-32f6-4cd5-b590-7229122f1ca9",
   "metadata": {
    "colab": {
     "base_uri": "https://localhost:8080/"
    },
    "executionInfo": {
     "elapsed": 285,
     "status": "ok",
     "timestamp": 1697055774838,
     "user": {
      "displayName": "Андрей Борискин",
      "userId": "13356073131863959443"
     },
     "user_tz": -180
    },
    "id": "9007ce8e-32f6-4cd5-b590-7229122f1ca9",
    "outputId": "1bfd077c-b727-4785-9a0a-2798cedbd7b7",
    "tags": []
   },
   "outputs": [
    {
     "name": "stdout",
     "output_type": "stream",
     "text": [
      "[0, 1, 2, 3, 4, 5, 6, 7, 8, 9, 10, 11, 12, 13, 14, 15, 16, 17, 18, 19, 20, 21, 22, 23, 24, 25, 26, 27, 28, 29, 30, 31, 32, 33, 34, 35, 36, 37, 38, 39, 40, 41, 42]\n"
     ]
    }
   ],
   "source": [
    "cat_features = list(range(0, x.shape[1]))\n",
    "print(cat_features)"
   ]
  },
  {
   "cell_type": "markdown",
   "id": "df30f773-f6ff-4448-8b69-fee06f7b6bf9",
   "metadata": {
    "id": "df30f773-f6ff-4448-8b69-fee06f7b6bf9"
   },
   "source": [
    "# Создание и обучение модели"
   ]
  },
  {
   "cell_type": "code",
   "execution_count": 12,
   "id": "e54ab90d-9643-40f7-a639-873e624799da",
   "metadata": {
    "collapsed": true,
    "id": "e54ab90d-9643-40f7-a639-873e624799da",
    "jupyter": {
     "outputs_hidden": true
    },
    "outputId": "6c7bf7ea-61c6-4b12-c465-11f4b4095285",
    "tags": []
   },
   "outputs": [
    {
     "data": {
      "application/vnd.jupyter.widget-view+json": {
       "model_id": "72bdc84b0d6e4def92bdad2fff97c932",
       "version_major": 2,
       "version_minor": 0
      },
      "text/plain": [
       "MetricVisualizer(layout=Layout(align_self='stretch', height='500px'))"
      ]
     },
     "metadata": {},
     "output_type": "display_data"
    },
    {
     "name": "stdout",
     "output_type": "stream",
     "text": [
      "0:\tlearn: 0.1397500\ttest: 0.1316554\tbest: 0.1316554 (0)\ttotal: 164ms\tremaining: 7m 22s\n",
      "50:\tlearn: 0.6491593\ttest: 0.7029296\tbest: 0.7029296 (50)\ttotal: 10.4s\tremaining: 9m 1s\n",
      "100:\tlearn: 0.7281867\ttest: 0.7526844\tbest: 0.7526844 (100)\ttotal: 21.5s\tremaining: 9m 12s\n",
      "150:\tlearn: 0.7652472\ttest: 0.7757921\tbest: 0.7759082 (147)\ttotal: 32.7s\tremaining: 9m 11s\n",
      "200:\tlearn: 0.7927419\ttest: 0.7869751\tbest: 0.7871885 (197)\ttotal: 43.9s\tremaining: 9m 3s\n",
      "250:\tlearn: 0.8112512\ttest: 0.7924947\tbest: 0.7925301 (249)\ttotal: 55s\tremaining: 8m 54s\n",
      "300:\tlearn: 0.8275907\ttest: 0.7960951\tbest: 0.7963970 (294)\ttotal: 1m 6s\tremaining: 8m 45s\n",
      "350:\tlearn: 0.8422220\ttest: 0.8014238\tbest: 0.8014238 (350)\ttotal: 1m 17s\tremaining: 8m 38s\n",
      "400:\tlearn: 0.8556542\ttest: 0.8024702\tbest: 0.8031762 (395)\ttotal: 1m 28s\tremaining: 8m 27s\n",
      "450:\tlearn: 0.8673745\ttest: 0.8033755\tbest: 0.8044891 (438)\ttotal: 1m 40s\tremaining: 8m 17s\n",
      "500:\tlearn: 0.8789628\ttest: 0.8053217\tbest: 0.8054970 (477)\ttotal: 1m 51s\tremaining: 8m 7s\n",
      "550:\tlearn: 0.8906542\ttest: 0.8080485\tbest: 0.8081131 (549)\ttotal: 2m 2s\tremaining: 7m 55s\n",
      "600:\tlearn: 0.8990438\ttest: 0.8072330\tbest: 0.8081131 (549)\ttotal: 2m 13s\tremaining: 7m 45s\n",
      "650:\tlearn: 0.9078000\ttest: 0.8088285\tbest: 0.8097397 (628)\ttotal: 2m 25s\tremaining: 7m 34s\n",
      "700:\tlearn: 0.9164021\ttest: 0.8099076\tbest: 0.8108471 (671)\ttotal: 2m 36s\tremaining: 7m 23s\n",
      "750:\tlearn: 0.9230236\ttest: 0.8112005\tbest: 0.8120654 (711)\ttotal: 2m 47s\tremaining: 7m 12s\n",
      "800:\tlearn: 0.9307502\ttest: 0.8123324\tbest: 0.8127617 (787)\ttotal: 2m 58s\tremaining: 7m 1s\n",
      "850:\tlearn: 0.9354963\ttest: 0.8127143\tbest: 0.8135877 (834)\ttotal: 3m 9s\tremaining: 6m 50s\n",
      "900:\tlearn: 0.9420065\ttest: 0.8145485\tbest: 0.8150994 (887)\ttotal: 3m 21s\tremaining: 6m 39s\n",
      "950:\tlearn: 0.9467465\ttest: 0.8149139\tbest: 0.8155892 (933)\ttotal: 3m 32s\tremaining: 6m 28s\n",
      "1000:\tlearn: 0.9511687\ttest: 0.8147405\tbest: 0.8157675 (968)\ttotal: 3m 43s\tremaining: 6m 17s\n",
      "1050:\tlearn: 0.9552310\ttest: 0.8159104\tbest: 0.8159104 (1050)\ttotal: 3m 54s\tremaining: 6m 6s\n",
      "1100:\tlearn: 0.9596509\ttest: 0.8167793\tbest: 0.8174305 (1065)\ttotal: 4m 5s\tremaining: 5m 54s\n",
      "1150:\tlearn: 0.9636078\ttest: 0.8171128\tbest: 0.8178482 (1122)\ttotal: 4m 16s\tremaining: 5m 43s\n",
      "1200:\tlearn: 0.9666363\ttest: 0.8168333\tbest: 0.8178482 (1122)\ttotal: 4m 27s\tremaining: 5m 31s\n",
      "1250:\tlearn: 0.9700952\ttest: 0.8181364\tbest: 0.8184697 (1246)\ttotal: 4m 38s\tremaining: 5m 20s\n",
      "1300:\tlearn: 0.9733315\ttest: 0.8195928\tbest: 0.8198634 (1272)\ttotal: 4m 49s\tremaining: 5m 9s\n",
      "1350:\tlearn: 0.9755819\ttest: 0.8187651\tbest: 0.8204017 (1330)\ttotal: 5m\tremaining: 4m 57s\n",
      "1400:\tlearn: 0.9778267\ttest: 0.8191365\tbest: 0.8204017 (1330)\ttotal: 5m 11s\tremaining: 4m 47s\n",
      "1450:\tlearn: 0.9798629\ttest: 0.8180606\tbest: 0.8204017 (1330)\ttotal: 5m 22s\tremaining: 4m 36s\n",
      "1500:\tlearn: 0.9822332\ttest: 0.8184395\tbest: 0.8204017 (1330)\ttotal: 5m 34s\tremaining: 4m 25s\n",
      "1550:\tlearn: 0.9834248\ttest: 0.8188478\tbest: 0.8204017 (1330)\ttotal: 5m 45s\tremaining: 4m 14s\n",
      "1600:\tlearn: 0.9845708\ttest: 0.8191728\tbest: 0.8204017 (1330)\ttotal: 5m 56s\tremaining: 4m 3s\n",
      "1650:\tlearn: 0.9862119\ttest: 0.8189239\tbest: 0.8204017 (1330)\ttotal: 6m 8s\tremaining: 3m 52s\n",
      "1700:\tlearn: 0.9875718\ttest: 0.8198251\tbest: 0.8208073 (1667)\ttotal: 6m 19s\tremaining: 3m 41s\n",
      "1750:\tlearn: 0.9889930\ttest: 0.8203203\tbest: 0.8214702 (1737)\ttotal: 6m 31s\tremaining: 3m 30s\n",
      "1800:\tlearn: 0.9898584\ttest: 0.8201319\tbest: 0.8214702 (1737)\ttotal: 6m 43s\tremaining: 3m 19s\n",
      "1850:\tlearn: 0.9910770\ttest: 0.8190158\tbest: 0.8214702 (1737)\ttotal: 6m 54s\tremaining: 3m 8s\n",
      "1900:\tlearn: 0.9919788\ttest: 0.8203118\tbest: 0.8214702 (1737)\ttotal: 7m 5s\tremaining: 2m 56s\n",
      "1950:\tlearn: 0.9928601\ttest: 0.8207524\tbest: 0.8214702 (1737)\ttotal: 7m 16s\tremaining: 2m 45s\n",
      "2000:\tlearn: 0.9937796\ttest: 0.8211843\tbest: 0.8214702 (1737)\ttotal: 7m 27s\tremaining: 2m 34s\n",
      "2050:\tlearn: 0.9943848\ttest: 0.8218813\tbest: 0.8224704 (2017)\ttotal: 7m 39s\tremaining: 2m 23s\n",
      "2100:\tlearn: 0.9949313\ttest: 0.8216460\tbest: 0.8225780 (2075)\ttotal: 7m 52s\tremaining: 2m 12s\n",
      "2150:\tlearn: 0.9955550\ttest: 0.8215955\tbest: 0.8225780 (2075)\ttotal: 8m 4s\tremaining: 2m 1s\n",
      "2200:\tlearn: 0.9958865\ttest: 0.8212496\tbest: 0.8227637 (2178)\ttotal: 8m 15s\tremaining: 1m 50s\n",
      "2250:\tlearn: 0.9963727\ttest: 0.8233528\tbest: 0.8233528 (2250)\ttotal: 8m 26s\tremaining: 1m 39s\n",
      "2300:\tlearn: 0.9968005\ttest: 0.8232349\tbest: 0.8233723 (2292)\ttotal: 8m 37s\tremaining: 1m 27s\n",
      "2350:\tlearn: 0.9971893\ttest: 0.8235294\tbest: 0.8237650 (2329)\ttotal: 8m 49s\tremaining: 1m 16s\n",
      "2400:\tlearn: 0.9976358\ttest: 0.8234215\tbest: 0.8237650 (2329)\ttotal: 9m\tremaining: 1m 5s\n",
      "2450:\tlearn: 0.9979270\ttest: 0.8233922\tbest: 0.8244415 (2428)\ttotal: 9m 12s\tremaining: 54.3s\n",
      "2500:\tlearn: 0.9981017\ttest: 0.8232450\tbest: 0.8244415 (2428)\ttotal: 9m 23s\tremaining: 43s\n",
      "2550:\tlearn: 0.9983152\ttest: 0.8232744\tbest: 0.8244415 (2428)\ttotal: 9m 34s\tremaining: 31.8s\n",
      "2600:\tlearn: 0.9985478\ttest: 0.8237254\tbest: 0.8244898 (2596)\ttotal: 9m 45s\tremaining: 20.5s\n",
      "2650:\tlearn: 0.9986835\ttest: 0.8232155\tbest: 0.8244898 (2596)\ttotal: 9m 57s\tremaining: 9.24s\n",
      "2691:\tlearn: 0.9989354\ttest: 0.8234706\tbest: 0.8244898 (2596)\ttotal: 10m 6s\tremaining: 0us\n",
      "\n",
      "bestTest = 0.8244897959\n",
      "bestIteration = 2596\n",
      "\n",
      "Shrink model to first 2597 iterations.\n"
     ]
    },
    {
     "data": {
      "text/plain": [
       "<catboost.core.CatBoostClassifier at 0x17d813890>"
      ]
     },
     "execution_count": 12,
     "metadata": {},
     "output_type": "execute_result"
    }
   ],
   "source": [
    "model = CatBoostClassifier(\n",
    "    **catboost_hyperparams_medium,\n",
    "    random_seed=42,\n",
    "    eval_metric='F1'\n",
    ")\n",
    "\n",
    "model.fit(\n",
    "    x_train, y_train,\n",
    "    cat_features=cat_features,\n",
    "    eval_set=(x_validation, y_validation),\n",
    "    verbose=50,\n",
    "    plot=True\n",
    ")"
   ]
  },
  {
   "cell_type": "markdown",
   "id": "fe16c42d-91cd-4f6b-9724-af8d4c695076",
   "metadata": {
    "id": "fe16c42d-91cd-4f6b-9724-af8d4c695076"
   },
   "source": [
    "### Предсказание модели и последующая запись в submission"
   ]
  },
  {
   "cell_type": "code",
   "execution_count": 14,
   "id": "d9a7912f",
   "metadata": {
    "id": "d9a7912f",
    "tags": []
   },
   "outputs": [],
   "source": [
    "submission = pd.read_csv('/Users/andreyboriskin/Downloads/Проект_сбер/74abd23d767d00a2fcc9a2cbe53bc4e7')"
   ]
  },
  {
   "cell_type": "code",
   "execution_count": 40,
   "id": "2b276f59",
   "metadata": {
    "colab": {
     "base_uri": "https://localhost:8080/"
    },
    "executionInfo": {
     "elapsed": 807,
     "status": "ok",
     "timestamp": 1696814498876,
     "user": {
      "displayName": "Данило Малбашич",
      "userId": "04604792509204476148"
     },
     "user_tz": -180
    },
    "id": "2b276f59",
    "outputId": "c1abd635-b6ae-4d19-d6c7-5783f34d57b5",
    "tags": []
   },
   "outputs": [
    {
     "data": {
      "text/plain": [
       "array([0, 0, 0, ..., 0, 0, 0])"
      ]
     },
     "execution_count": 40,
     "metadata": {},
     "output_type": "execute_result"
    }
   ],
   "source": [
    "preds = model.predict(train_df_20)\n",
    "preds"
   ]
  },
  {
   "cell_type": "code",
   "execution_count": 16,
   "id": "c8f2e90f",
   "metadata": {
    "id": "c8f2e90f",
    "tags": []
   },
   "outputs": [],
   "source": [
    "submission['value'] = preds\n",
    "submission.to_csv('submission_1.csv', index=False)"
   ]
  },
  {
   "cell_type": "code",
   "execution_count": null,
   "id": "d5a353b7-27b4-41f9-9ca1-23db8a2bfe0f",
   "metadata": {
    "id": "d5a353b7-27b4-41f9-9ca1-23db8a2bfe0f"
   },
   "outputs": [],
   "source": [
    "model.save_model('model.cmb')"
   ]
  }
 ],
 "metadata": {
  "accelerator": "GPU",
  "colab": {
   "gpuType": "T4",
   "provenance": []
  },
  "kernelspec": {
   "display_name": "Python 3 (ipykernel)",
   "language": "python",
   "name": "python3"
  },
  "language_info": {
   "codemirror_mode": {
    "name": "ipython",
    "version": 3
   },
   "file_extension": ".py",
   "mimetype": "text/x-python",
   "name": "python",
   "nbconvert_exporter": "python",
   "pygments_lexer": "ipython3",
   "version": "3.11.5"
  }
 },
 "nbformat": 4,
 "nbformat_minor": 5
}
